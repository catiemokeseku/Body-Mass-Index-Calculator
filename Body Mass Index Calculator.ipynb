{
 "cells": [
  {
   "cell_type": "markdown",
   "id": "cc503692",
   "metadata": {},
   "source": [
    "# Body Mass Index Calculator"
   ]
  },
  {
   "cell_type": "code",
   "execution_count": null,
   "id": "d8e3d998",
   "metadata": {},
   "outputs": [],
   "source": [
    "name = input('Please enter your name: ')"
   ]
  },
  {
   "cell_type": "code",
   "execution_count": null,
   "id": "4ca2e1c2",
   "metadata": {},
   "outputs": [],
   "source": [
    "introduction = 'Welcome ' + name + ', to the Body Mass Index Calculator. Your mass in kilograms and height in meters will be needed. Please proceed to the next step.'"
   ]
  },
  {
   "cell_type": "code",
   "execution_count": null,
   "id": "8769d1cb",
   "metadata": {},
   "outputs": [],
   "source": [
    "print(introduction)"
   ]
  },
  {
   "cell_type": "code",
   "execution_count": null,
   "id": "223f772a",
   "metadata": {},
   "outputs": [],
   "source": [
    "try:\n",
    "    mass_in_kg = float(input('Please enter your mass in kilogram: '))\n",
    "except ValueError:\n",
    "    print('Please your mass must be a number')\n",
    "    mass_in_kg = float(input('Please enter your mass in kilogram: '))\n",
    "    "
   ]
  },
  {
   "cell_type": "code",
   "execution_count": 20,
   "id": "a1ae0b74",
   "metadata": {},
   "outputs": [
    {
     "name": "stdout",
     "output_type": "stream",
     "text": [
      "Please enter your height in meters: e\n",
      "Please your height must be a number\n",
      "Please enter your height in meters: 1.4\n"
     ]
    }
   ],
   "source": [
    "try:\n",
    "    height_in_meters = float(input('Please enter your height in meters: '))\n",
    "except ValueError:\n",
    "    print('Please your height must be a number')\n",
    "    height_in_meters = float(input('Please enter your height in meters: '))"
   ]
  },
  {
   "cell_type": "code",
   "execution_count": 21,
   "id": "09aa5361",
   "metadata": {},
   "outputs": [],
   "source": [
    "body_mass_index = mass_in_kg / (height_in_meters ** 2)"
   ]
  },
  {
   "cell_type": "code",
   "execution_count": 22,
   "id": "61708b16",
   "metadata": {},
   "outputs": [
    {
     "name": "stdout",
     "output_type": "stream",
     "text": [
      "Hello sara, your Body Mass Index is 11.734693877551022 and in the Underweight category.\n"
     ]
    }
   ],
   "source": [
    "if body_mass_index < 18.5:\n",
    "    print('Hello ' + name + ', your Body Mass Index is ' + str(body_mass_index) + ' and in the Underweight category.')\n",
    "elif 18.5 < body_mass_index < 24.9:\n",
    "    print('Hello ' + name + ', your Body Mass Index is ' + str(body_mass_index) + ' and in the Normal category.')\n",
    "elif 25 < body_mass_index < 29.9:\n",
    "    print('Hello ' + name + ', your Body Mass Index is ' + str(body_mass_index) + ' and in the Overweight category.')\n",
    "else:\n",
    "    print('Hello ' + name + ', your Body Mass Index is ' + str(body_mass_index) + ' and in the Obese category.')"
   ]
  },
  {
   "cell_type": "code",
   "execution_count": null,
   "id": "bdda4414",
   "metadata": {},
   "outputs": [],
   "source": []
  }
 ],
 "metadata": {
  "kernelspec": {
   "display_name": "Python 3",
   "language": "python",
   "name": "python3"
  },
  "language_info": {
   "codemirror_mode": {
    "name": "ipython",
    "version": 3
   },
   "file_extension": ".py",
   "mimetype": "text/x-python",
   "name": "python",
   "nbconvert_exporter": "python",
   "pygments_lexer": "ipython3",
   "version": "3.8.8"
  }
 },
 "nbformat": 4,
 "nbformat_minor": 5
}
